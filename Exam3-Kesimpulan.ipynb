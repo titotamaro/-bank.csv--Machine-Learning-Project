{
 "cells": [
  {
   "cell_type": "markdown",
   "metadata": {},
   "source": [
    "# Kesimpulan dan Saran"
   ]
  },
  {
   "cell_type": "markdown",
   "metadata": {},
   "source": [
    "## Goals\n",
    "\n",
    "1. Menemukan faktor yang paling mempengaruhi nasabah untuk berpindah bank\n",
    "2. Analisa setiap feature dan hubungannya dengan nasabah yang berpindah bank\n",
    "3. Pemodelan yang dapat memprediksi seorang nasabah akan keluar atau tidak dengan akurasi tinggi (>80%)"
   ]
  },
  {
   "cell_type": "markdown",
   "metadata": {},
   "source": [
    "## Kesimpulan\n",
    "\n",
    "1. Walaupun terdapat Surname yang populer baik yang berpindah atau tidak berpindah, feature ini tidak memberikan data yang objektif dan tidak diolah lebih jauh **\n",
    "2. Credit Score tidak mempengaruhi keputusan nasabah untuk berpindah atau tidak berpindah bank **\n",
    "3. Negara France merupakan negara dengan tingkat nasabah paling setia (42%), sementara German kebalikannya (17%)\n",
    "4. Wanita lebih banyak berpindah bank, berbeda 0.2% dari pria  **\n",
    "5. Semakin tinggi usia maka, semakin tinggi jumlah nasabah yang berpindah bank **\n",
    "6. Kelompok usia yang paling banyak berpindah bank adalah kelompok usia 38-47 tahun (0.8%) (menjawab goals nomor 1)\n",
    "7. Semakin banyak tenure yang dimilik maka akan semakin kecil jumlah nasabah yang berpindah bank **\n",
    "8. Nasabah yang semakin banyak mengambil produk bank memiliki jumlah kepindahan nasabah yang lebih kecil **\n",
    "9. Nasabah yang memiliki credit card mempunyai jumlah berpindah bank yang lebih banyak daripada yang tidak (terpaut 0.8%) **\n",
    "10. Nasabah yang dinilai bank tidak aktif dalam bertransaksi memiliki jumlah 0.5% lebih banyak untuk berpindah bank daripada yang aktif **\n",
    "11. Kelompok nasabah dengan estimated salary 100001-200000 atau golongan orang kaya memiliki jumlah kepindahan bank yang paling besar (10%) **\n",
    "12. Korelasi positif terkuat dalam bivariate analisis adalah usia (menjawab goals nomor 1)\n",
    "12. Korelasi negative terkuat dalam bivariate analisis adalah keaktifan nasabah dalam transaksi **\n",
    "14. Diperoleh pemodelan dengan AUC 0.86 dan akurasi 0.84% , apabila dihitung berdasarkan dataframe jumlah nasabah yang bisa diprediksi akan keluar adalah : <br>\n",
    "    0.84 x 0.2 x 10000 nasabah = 1680 nasabah (menjawab goals nomor 3)\n",
    "    \n",
    "Keterangan:     ** Poin yang menjawab goals nomor 2"
   ]
  },
  {
   "cell_type": "markdown",
   "metadata": {},
   "source": [
    "## Saran"
   ]
  },
  {
   "cell_type": "markdown",
   "metadata": {},
   "source": [
    "1. Membuat suatu event (diskon / promo) untuk nasabah yang berusia lanjut (>48 tahun) dan memiliki estimated salary antara 100001-200000, dari analisa diperoleh kesimpulan bahwa kelompok ini merupakan kelompok usia yang paling banyak berpindah bank.\n",
    "2. Keaktifan nasabah mempengaruhi keadaannya untuk tidak berpindah bank, oleh karena itu dapat dibuat suatu event yang mengharuskan nasabah sering melakukan transaksi seperti bonus saat penggunaan kredit, poin yang bisa dikumpulkan dan ditukar hadiah apabila menggunakan kredit dll.\n",
    "3. Negara France memiliki tingkat kesetiaan terhadap bank yang sangat tinggi, pemasaran dapat dipusatkan pada negara tersebut\n",
    "4. Dalam pemberian promo berikan effort lebih kepada wanita, karena gender ini mendominasi jumlah, selain itu mereka juga sering berpindah bank\n",
    "5. Berikan produk bank dengan nilai yang kompetitif (deposito dengan bunga besar, agunan kredit yang kecil, KPR yang kompetitif dll.) untuk membuat nasabah setia dengan bank"
   ]
  }
 ],
 "metadata": {
  "kernelspec": {
   "display_name": "Python 3",
   "language": "python",
   "name": "python3"
  },
  "language_info": {
   "codemirror_mode": {
    "name": "ipython",
    "version": 3
   },
   "file_extension": ".py",
   "mimetype": "text/x-python",
   "name": "python",
   "nbconvert_exporter": "python",
   "pygments_lexer": "ipython3",
   "version": "3.7.4"
  }
 },
 "nbformat": 4,
 "nbformat_minor": 4
}
