{
 "cells": [
  {
   "cell_type": "markdown",
   "metadata": {},
   "source": [
    "# Import Package"
   ]
  },
  {
   "cell_type": "code",
   "execution_count": 1,
   "metadata": {},
   "outputs": [],
   "source": [
    "import pandas as pd\n",
    "import numpy as np\n",
    "import matplotlib.pyplot as plt\n",
    "import seaborn as sns\n",
    "import pickle\n",
    "from sklearn.model_selection import train_test_split\n",
    "from sklearn.metrics import roc_curve, auc, roc_auc_score, accuracy_score, balanced_accuracy_score,f1_score,recall_score,precision_score,classification_report, confusion_matrix\n",
    "from sklearn.preprocessing import RobustScaler\n",
    "from sklearn.linear_model import LogisticRegression\n",
    "from imblearn.over_sampling import SMOTE \n",
    "from sklearn.ensemble import RandomForestClassifier\n",
    "from sklearn.model_selection import GridSearchCV\n",
    "from xgboost import XGBClassifier\n",
    "\n",
    "%matplotlib inline"
   ]
  },
  {
   "cell_type": "markdown",
   "metadata": {},
   "source": [
    "# Import Dataset"
   ]
  },
  {
   "cell_type": "code",
   "execution_count": 2,
   "metadata": {},
   "outputs": [],
   "source": [
    "df = pd.read_csv('df_exam.csv',index_col=0)"
   ]
  },
  {
   "cell_type": "markdown",
   "metadata": {},
   "source": [
    "# Data Preprocessing - Continued"
   ]
  },
  {
   "cell_type": "code",
   "execution_count": 3,
   "metadata": {},
   "outputs": [],
   "source": [
    "X = df.drop('Exited',axis=1)\n",
    "y = df['Exited']"
   ]
  },
  {
   "cell_type": "markdown",
   "metadata": {},
   "source": [
    "## Scaling"
   ]
  },
  {
   "cell_type": "markdown",
   "metadata": {},
   "source": [
    "Robust Scaler merupakan algoritma scaling yang tidak sensitif terhadap outlier dan memiliki performa yang umumnya paling baik dari algoritma scaling yang lain oleh karena itu algoritma ini dipilih sebagai media scaling"
   ]
  },
  {
   "cell_type": "code",
   "execution_count": 4,
   "metadata": {},
   "outputs": [],
   "source": [
    "scaler = RobustScaler()\n",
    "X = scaler.fit_transform(X)"
   ]
  },
  {
   "cell_type": "markdown",
   "metadata": {},
   "source": [
    "## Data Splitting"
   ]
  },
  {
   "cell_type": "code",
   "execution_count": 5,
   "metadata": {},
   "outputs": [],
   "source": [
    "X_train, X_test, y_train, y_test = train_test_split(X, y, stratify=y, train_size=0.75, random_state=42) # 75% merupakan angka terbaik secara teori, penggunaan stratify untuk classification case"
   ]
  },
  {
   "cell_type": "markdown",
   "metadata": {},
   "source": [
    "## Data Imbalanced Handling - SMOTE"
   ]
  },
  {
   "cell_type": "markdown",
   "metadata": {},
   "source": [
    "Terdapat 4 cara untuk menghandle imbalanced data pada kasus ini yaitu oversampling, undersampling, SMOTE, dan class weight.<br>\n",
    "SMOTE dipilih karena metode ini cepat dalam prosesnya"
   ]
  },
  {
   "cell_type": "code",
   "execution_count": 6,
   "metadata": {},
   "outputs": [],
   "source": [
    "sm = SMOTE(random_state=42)"
   ]
  },
  {
   "cell_type": "code",
   "execution_count": 7,
   "metadata": {},
   "outputs": [],
   "source": [
    "X_train_sm,y_train_sm=sm.fit_sample(X_train,y_train)"
   ]
  },
  {
   "cell_type": "code",
   "execution_count": 9,
   "metadata": {},
   "outputs": [
    {
     "data": {
      "text/plain": [
       "(11516, 11)"
      ]
     },
     "execution_count": 9,
     "metadata": {},
     "output_type": "execute_result"
    }
   ],
   "source": [
    "X_train_sm.shape"
   ]
  },
  {
   "cell_type": "code",
   "execution_count": 10,
   "metadata": {},
   "outputs": [
    {
     "data": {
      "text/plain": [
       "(7176, 11)"
      ]
     },
     "execution_count": 10,
     "metadata": {},
     "output_type": "execute_result"
    }
   ],
   "source": [
    "X_train.shape"
   ]
  },
  {
   "cell_type": "markdown",
   "metadata": {},
   "source": [
    "## Logistic Regression"
   ]
  },
  {
   "cell_type": "code",
   "execution_count": 11,
   "metadata": {},
   "outputs": [
    {
     "name": "stderr",
     "output_type": "stream",
     "text": [
      "C:\\ProgramData\\Anaconda3\\lib\\site-packages\\sklearn\\linear_model\\logistic.py:432: FutureWarning: Default solver will be changed to 'lbfgs' in 0.22. Specify a solver to silence this warning.\n",
      "  FutureWarning)\n"
     ]
    }
   ],
   "source": [
    "logres = LogisticRegression()\n",
    "model1 = logres.fit(X_train_sm,y_train_sm)"
   ]
  },
  {
   "cell_type": "code",
   "execution_count": 12,
   "metadata": {},
   "outputs": [
    {
     "data": {
      "text/plain": [
       "0.7332775919732442"
      ]
     },
     "execution_count": 12,
     "metadata": {},
     "output_type": "execute_result"
    }
   ],
   "source": [
    "model1.score(X_test,y_test)"
   ]
  },
  {
   "cell_type": "code",
   "execution_count": 13,
   "metadata": {},
   "outputs": [],
   "source": [
    "prediksi1 = logres.predict(X_test)"
   ]
  },
  {
   "cell_type": "code",
   "execution_count": 14,
   "metadata": {},
   "outputs": [
    {
     "name": "stdout",
     "output_type": "stream",
     "text": [
      "              precision    recall  f1-score   support\n",
      "\n",
      "           0       0.90      0.75      0.82      1919\n",
      "           1       0.40      0.67      0.50       473\n",
      "\n",
      "    accuracy                           0.73      2392\n",
      "   macro avg       0.65      0.71      0.66      2392\n",
      "weighted avg       0.80      0.73      0.76      2392\n",
      "\n"
     ]
    }
   ],
   "source": [
    "print(classification_report(y_test, prediksi1))"
   ]
  },
  {
   "cell_type": "code",
   "execution_count": 18,
   "metadata": {},
   "outputs": [
    {
     "data": {
      "image/png": "[encoded data removed]",
      "text/plain": [
       "<Figure size 504x360 with 2 Axes>"
      ]
     },
     "metadata": {
      "needs_background": "light"
     },
     "output_type": "display_data"
    }
   ],
   "source": [
    "cm1 = confusion_matrix(y_test,prediksi1,labels=[1,0])\n",
    "df_cm1 = pd.DataFrame(cm1,columns=['Pred 1', 'Pred 0'],index=['Act 1', 'Act 0'])\n",
    "\n",
    "plt.figure(figsize=(7,5))\n",
    "x = sns.heatmap(df_cm1, annot=True,annot_kws={'size':10},fmt='d',linewidths=0.2,cmap='rainbow')\n",
    "x.set_ylim(2,0)\n",
    "plt.show()"
   ]
  },
  {
   "cell_type": "markdown",
   "metadata": {},
   "source": [
    "Dalam pemodelan ini, yang menjadi tujuan adalah <b>memprediksi nasabah yang akan berpindah bank</b>. Oleh karena itu pemodelan yang dianggap baik adalah pemodelan yang bisa memberikan nilai True Positive sebanyak-banyaknya dan sebaliknya apabila dalam pemodelan diperoleh False Negative yang banyak maka pemodelan dianggap jelek.<br>\n",
    "\n",
    "Perlu diingat klasifikasi nasabah yang mirip dengan klasifikasi penyakit pada pasien dimana kesalahan diagnosa bahwa pasien ternyata memiliki penyakit (padahal tidak) lebih baik daripada kesalahan diagnosa bahwa pasien ternyata tidak sakit (padahal sakit)"
   ]
  },
  {
   "cell_type": "markdown",
   "metadata": {},
   "source": [
    "## Random Forest Classifier"
   ]
  },
  {
   "cell_type": "code",
   "execution_count": 20,
   "metadata": {},
   "outputs": [],
   "source": [
    "rfc = RandomForestClassifier(n_estimators=100) # n_estimator default\n",
    "model2 = rfc.fit(X_train_sm,y_train_sm)"
   ]
  },
  {
   "cell_type": "code",
   "execution_count": 21,
   "metadata": {},
   "outputs": [
    {
     "data": {
      "text/plain": [
       "0.8415551839464883"
      ]
     },
     "execution_count": 21,
     "metadata": {},
     "output_type": "execute_result"
    }
   ],
   "source": [
    "model2.score(X_test,y_test)"
   ]
  },
  {
   "cell_type": "code",
   "execution_count": 22,
   "metadata": {},
   "outputs": [],
   "source": [
    "prediksi2 = rfc.predict(X_test)"
   ]
  },
  {
   "cell_type": "code",
   "execution_count": 23,
   "metadata": {},
   "outputs": [
    {
     "name": "stdout",
     "output_type": "stream",
     "text": [
      "              precision    recall  f1-score   support\n",
      "\n",
      "           0       0.89      0.92      0.90      1919\n",
      "           1       0.61      0.54      0.57       473\n",
      "\n",
      "    accuracy                           0.84      2392\n",
      "   macro avg       0.75      0.73      0.74      2392\n",
      "weighted avg       0.84      0.84      0.84      2392\n",
      "\n"
     ]
    }
   ],
   "source": [
    "print(classification_report(y_test, prediksi2))"
   ]
  },
  {
   "cell_type": "code",
   "execution_count": 24,
   "metadata": {},
   "outputs": [
    {
     "data": {
      "image/png": "[encoded data removed]",
      "text/plain": [
       "<Figure size 504x360 with 2 Axes>"
      ]
     },
     "metadata": {
      "needs_background": "light"
     },
     "output_type": "display_data"
    }
   ],
   "source": [
    "cm2 = confusion_matrix(y_test,prediksi2,labels=[1,0])\n",
    "df_cm2 = pd.DataFrame(cm2,columns=['Pred 1', 'Pred 0'],index=['Act 1', 'Act 0'])\n",
    "\n",
    "plt.figure(figsize=(7,5))\n",
    "x = sns.heatmap(df_cm2, annot=True,annot_kws={'size':10},fmt='d',linewidths=0.2,cmap='plasma')\n",
    "x.set_ylim(2,0)\n",
    "plt.show()"
   ]
  },
  {
   "cell_type": "markdown",
   "metadata": {},
   "source": [
    "Akurasi menggunakan Random Forest Classifier memiliki tingkat akurasi yang lebih baik, namun didapat nilai TP yang lebih kecil dari logistic regression. Walau seperti itu belum bisa diambil kesimpulan yang utuh, harus dibandingkan ROC-AUC nya untuk dapat ditentukan mana pemodelan yang lebih baik."
   ]
  },
  {
   "cell_type": "markdown",
   "metadata": {},
   "source": [
    "## XGBoost Classifier"
   ]
  },
  {
   "cell_type": "code",
   "execution_count": 25,
   "metadata": {},
   "outputs": [],
   "source": [
    "xgbc = XGBClassifier()\n",
    "model3 = xgbc.fit(X_train_sm,y_train_sm)"
   ]
  },
  {
   "cell_type": "code",
   "execution_count": 26,
   "metadata": {},
   "outputs": [
    {
     "data": {
      "text/plain": [
       "0.8398829431438127"
      ]
     },
     "execution_count": 26,
     "metadata": {},
     "output_type": "execute_result"
    }
   ],
   "source": [
    "model3.score(X_test,y_test)"
   ]
  },
  {
   "cell_type": "code",
   "execution_count": 27,
   "metadata": {},
   "outputs": [],
   "source": [
    "prediksi3 = xgbc.predict(X_test)"
   ]
  },
  {
   "cell_type": "code",
   "execution_count": 28,
   "metadata": {},
   "outputs": [
    {
     "name": "stdout",
     "output_type": "stream",
     "text": [
      "              precision    recall  f1-score   support\n",
      "\n",
      "           0       0.91      0.89      0.90      1919\n",
      "           1       0.59      0.62      0.61       473\n",
      "\n",
      "    accuracy                           0.84      2392\n",
      "   macro avg       0.75      0.76      0.75      2392\n",
      "weighted avg       0.84      0.84      0.84      2392\n",
      "\n"
     ]
    }
   ],
   "source": [
    "print(classification_report(y_test, prediksi3))"
   ]
  },
  {
   "cell_type": "code",
   "execution_count": 29,
   "metadata": {},
   "outputs": [
    {
     "data": {
      "image/png": "[encoded data removed]",
      "text/plain": [
       "<Figure size 504x360 with 2 Axes>"
      ]
     },
     "metadata": {
      "needs_background": "light"
     },
     "output_type": "display_data"
    }
   ],
   "source": [
    "cm3 = confusion_matrix(y_test,prediksi3,labels=[1,0])\n",
    "df_cm3 = pd.DataFrame(cm3,columns=['Pred 1', 'Pred 0'],index=['Act 1', 'Act 0'])\n",
    "\n",
    "plt.figure(figsize=(7,5))\n",
    "x = sns.heatmap(df_cm3, annot=True,annot_kws={'size':10},fmt='d',linewidths=0.2,cmap='magma')\n",
    "x.set_ylim(2,0)\n",
    "plt.show()"
   ]
  },
  {
   "cell_type": "markdown",
   "metadata": {},
   "source": [
    "Akurasi menggunakan XGBoost memiliki tingkat TP yang lebih sedikit dari logistic regression yaitu 294 nasabah. "
   ]
  },
  {
   "cell_type": "markdown",
   "metadata": {},
   "source": [
    "# Hyper Parameter Tuning"
   ]
  },
  {
   "cell_type": "markdown",
   "metadata": {},
   "source": [
    "## Logistic Regression - Tuning"
   ]
  },
  {
   "cell_type": "code",
   "execution_count": 37,
   "metadata": {},
   "outputs": [],
   "source": [
    "# LogisticRegression()\n",
    "params1 = {\n",
    "    \"penalty\":['l2'], # default l2, l1 dan elasticnet tidak dipakai karena menyebabkan solver 'newton-cg' error\n",
    "    \"solver\":['liblinear','newton-cg','sag','saga','lbfgs'], # default liblinear, 'saga' tidak diapakai karena menyebabkan penalty error\n",
    "    \"C\":[0.1,0.5,1],\n",
    "    \"max_iter\":[100,200,300]\n",
    "          }"
   ]
  },
  {
   "cell_type": "code",
   "execution_count": 38,
   "metadata": {},
   "outputs": [
    {
     "name": "stdout",
     "output_type": "stream",
     "text": [
      "Fitting 5 folds for each of 45 candidates, totalling 225 fits\n"
     ]
    },
    {
     "name": "stderr",
     "output_type": "stream",
     "text": [
      "[Parallel(n_jobs=-1)]: Using backend LokyBackend with 4 concurrent workers.\n",
      "[Parallel(n_jobs=-1)]: Done  42 tasks      | elapsed:    6.4s\n",
      "[Parallel(n_jobs=-1)]: Done 192 tasks      | elapsed:   12.5s\n",
      "[Parallel(n_jobs=-1)]: Done 225 out of 225 | elapsed:   14.0s finished\n"
     ]
    }
   ],
   "source": [
    "model1_tuning = GridSearchCV(logres, params1, cv=5, n_jobs=-1, verbose=1)\n",
    "model4 = model1_tuning.fit(X_train_sm, y_train_sm)"
   ]
  },
  {
   "cell_type": "code",
   "execution_count": 44,
   "metadata": {},
   "outputs": [
    {
     "data": {
      "text/plain": [
       "0.7332775919732442"
      ]
     },
     "execution_count": 44,
     "metadata": {},
     "output_type": "execute_result"
    }
   ],
   "source": [
    "model4.score(X_test,y_test)"
   ]
  },
  {
   "cell_type": "code",
   "execution_count": 48,
   "metadata": {},
   "outputs": [
    {
     "data": {
      "text/plain": [
       "{'C': 0.1, 'max_iter': 100, 'penalty': 'l2', 'solver': 'saga'}"
      ]
     },
     "execution_count": 48,
     "metadata": {},
     "output_type": "execute_result"
    }
   ],
   "source": [
    "model4.best_params_"
   ]
  },
  {
   "cell_type": "code",
   "execution_count": 45,
   "metadata": {},
   "outputs": [],
   "source": [
    "prediksi4 = model4.predict(X_test)"
   ]
  },
  {
   "cell_type": "code",
   "execution_count": 46,
   "metadata": {},
   "outputs": [
    {
     "name": "stdout",
     "output_type": "stream",
     "text": [
      "              precision    recall  f1-score   support\n",
      "\n",
      "           0       0.90      0.75      0.82      1919\n",
      "           1       0.40      0.67      0.50       473\n",
      "\n",
      "    accuracy                           0.73      2392\n",
      "   macro avg       0.65      0.71      0.66      2392\n",
      "weighted avg       0.80      0.73      0.76      2392\n",
      "\n"
     ]
    }
   ],
   "source": [
    "print(classification_report(y_test, prediksi4))"
   ]
  },
  {
   "cell_type": "code",
   "execution_count": 47,
   "metadata": {},
   "outputs": [
    {
     "data": {
      "image/png": "[encoded data removed]",
      "text/plain": [
       "<Figure size 504x360 with 2 Axes>"
      ]
     },
     "metadata": {
      "needs_background": "light"
     },
     "output_type": "display_data"
    }
   ],
   "source": [
    "cm4 = confusion_matrix(y_test,prediksi4,labels=[1,0])\n",
    "df_cm4 = pd.DataFrame(cm4,columns=['Pred 1', 'Pred 0'],index=['Act 1', 'Act 0'])\n",
    "\n",
    "plt.figure(figsize=(7,5))\n",
    "x = sns.heatmap(df_cm4, annot=True,annot_kws={'size':10},fmt='d',linewidths=0.2,cmap='rainbow')\n",
    "x.set_ylim(2,0)\n",
    "plt.show()"
   ]
  },
  {
   "cell_type": "markdown",
   "metadata": {},
   "source": [
    "Akurasi menggunakan Logistic Regression dengan Hyper Parameter Tuning memiliki tingkat TP yang tidak berubah dari sebelumnya yaitu 318, sejauh ini Logistic Regression memiliki nilai TP yang terbesar."
   ]
  },
  {
   "cell_type": "markdown",
   "metadata": {},
   "source": [
    "## Random Forest Classifier - Tuning"
   ]
  },
  {
   "cell_type": "code",
   "execution_count": 61,
   "metadata": {},
   "outputs": [],
   "source": [
    "# RandomForestClassifier()\n",
    "params2 = {\n",
    "    \"n_estimators\": [10,100,1000], # default 10\n",
    "#     \"max_features\":['auto','sqrt'], # default auto --> di commend karena terlalu lama\n",
    "    \"max_depth\":[int(x) for x in np.linspace(10,110,11)], # default none\n",
    "#     \"min_samples_split\":[2,5,10], # default 2 --> di commend karena terlalu lama\n",
    "#     \"min_samples_leaf\":[1,2,4], # default 1 --> di commend karena terlalu lama\n",
    "    \"bootstrap\":[True,False] # default true\n",
    "          }"
   ]
  },
  {
   "cell_type": "code",
   "execution_count": 62,
   "metadata": {},
   "outputs": [
    {
     "name": "stdout",
     "output_type": "stream",
     "text": [
      "Fitting 3 folds for each of 66 candidates, totalling 198 fits\n"
     ]
    },
    {
     "name": "stderr",
     "output_type": "stream",
     "text": [
      "[Parallel(n_jobs=-1)]: Using backend LokyBackend with 4 concurrent workers.\n",
      "[Parallel(n_jobs=-1)]: Done  42 tasks      | elapsed:  1.8min\n",
      "[Parallel(n_jobs=-1)]: Done 198 out of 198 | elapsed: 11.6min finished\n"
     ]
    }
   ],
   "source": [
    "model2_tuning = GridSearchCV(rfc, params2, cv=3, n_jobs=-1, verbose=1)\n",
    "model5 = model2_tuning.fit(X_train_sm, y_train_sm)"
   ]
  },
  {
   "cell_type": "code",
   "execution_count": 63,
   "metadata": {},
   "outputs": [
    {
     "data": {
      "text/plain": [
       "0.8448996655518395"
      ]
     },
     "execution_count": 63,
     "metadata": {},
     "output_type": "execute_result"
    }
   ],
   "source": [
    "model5.score(X_test,y_test)"
   ]
  },
  {
   "cell_type": "code",
   "execution_count": 64,
   "metadata": {},
   "outputs": [
    {
     "data": {
      "text/plain": [
       "{'bootstrap': False, 'max_depth': 30, 'n_estimators': 1000}"
      ]
     },
     "execution_count": 64,
     "metadata": {},
     "output_type": "execute_result"
    }
   ],
   "source": [
    "model5.best_params_"
   ]
  },
  {
   "cell_type": "code",
   "execution_count": 65,
   "metadata": {},
   "outputs": [],
   "source": [
    "prediksi5 = model5.predict(X_test)"
   ]
  },
  {
   "cell_type": "code",
   "execution_count": 66,
   "metadata": {},
   "outputs": [
    {
     "name": "stdout",
     "output_type": "stream",
     "text": [
      "              precision    recall  f1-score   support\n",
      "\n",
      "           0       0.88      0.93      0.91      1919\n",
      "           1       0.64      0.49      0.56       473\n",
      "\n",
      "    accuracy                           0.84      2392\n",
      "   macro avg       0.76      0.71      0.73      2392\n",
      "weighted avg       0.83      0.84      0.84      2392\n",
      "\n"
     ]
    }
   ],
   "source": [
    "print(classification_report(y_test, prediksi5))"
   ]
  },
  {
   "cell_type": "code",
   "execution_count": 73,
   "metadata": {},
   "outputs": [
    {
     "data": {
      "image/png": "[encoded data removed]",
      "text/plain": [
       "<Figure size 504x360 with 2 Axes>"
      ]
     },
     "metadata": {
      "needs_background": "light"
     },
     "output_type": "display_data"
    }
   ],
   "source": [
    "cm5 = confusion_matrix(y_test,prediksi5,labels=[1,0])\n",
    "df_cm5 = pd.DataFrame(cm5,columns=['Pred 1', 'Pred 0'],index=['Act 1', 'Act 0'])\n",
    "\n",
    "plt.figure(figsize=(7,5))\n",
    "x = sns.heatmap(df_cm5, annot=True,annot_kws={'size':10},fmt='d',linewidths=0.2,cmap='plasma')\n",
    "x.set_ylim(2,0)\n",
    "plt.show()"
   ]
  },
  {
   "cell_type": "markdown",
   "metadata": {},
   "source": [
    "Akurasi menggunakan Random Forest Classifier yang telah di tuning memiliki tingkat TP yang paling rendah yaitu 234 nasabah, walaupun akurasinya mencapai 84.4%. "
   ]
  },
  {
   "cell_type": "markdown",
   "metadata": {},
   "source": [
    "## XGBoost Classifier - Tuning"
   ]
  },
  {
   "cell_type": "code",
   "execution_count": 71,
   "metadata": {},
   "outputs": [],
   "source": [
    "# XGBClassifier()\n",
    "params3 = {\n",
    "    \"learing_rate\":[0.1,0.2,0.3], # default 0.1\n",
    "    \"max_depth\":[3,5,7],# default 3\n",
    "    \"min_child_weight\":[1,2], # default 1\n",
    "    \"gamma\":[0.1,0.5], # default 0.1\n",
    "    \"subsample\":[0.1,0.5], # default 0.1\n",
    "    \"reg_alpha\":[0,1] # default 0\n",
    "          }\n",
    "# terdapat beberapa parameter yang dilewat karena sangat memakan waktu"
   ]
  },
  {
   "cell_type": "code",
   "execution_count": 72,
   "metadata": {},
   "outputs": [
    {
     "name": "stdout",
     "output_type": "stream",
     "text": [
      "Fitting 3 folds for each of 144 candidates, totalling 432 fits\n"
     ]
    },
    {
     "name": "stderr",
     "output_type": "stream",
     "text": [
      "[Parallel(n_jobs=-1)]: Using backend LokyBackend with 4 concurrent workers.\n",
      "[Parallel(n_jobs=-1)]: Done  42 tasks      | elapsed:   25.9s\n",
      "[Parallel(n_jobs=-1)]: Done 192 tasks      | elapsed:  1.6min\n",
      "[Parallel(n_jobs=-1)]: Done 432 out of 432 | elapsed:  3.6min finished\n"
     ]
    }
   ],
   "source": [
    "model3_tuning = GridSearchCV(xgbc, params3, cv=3, n_jobs=-1, verbose=1)\n",
    "model6 = model3_tuning.fit(X_train_sm, y_train_sm)"
   ]
  },
  {
   "cell_type": "code",
   "execution_count": 74,
   "metadata": {},
   "outputs": [
    {
     "data": {
      "text/plain": [
       "0.8524247491638796"
      ]
     },
     "execution_count": 74,
     "metadata": {},
     "output_type": "execute_result"
    }
   ],
   "source": [
    "model6.score(X_test,y_test)"
   ]
  },
  {
   "cell_type": "code",
   "execution_count": 75,
   "metadata": {},
   "outputs": [
    {
     "data": {
      "text/plain": [
       "{'gamma': 0.1,\n",
       " 'learing_rate': 0.1,\n",
       " 'max_depth': 7,\n",
       " 'min_child_weight': 1,\n",
       " 'reg_alpha': 1,\n",
       " 'subsample': 0.5}"
      ]
     },
     "execution_count": 75,
     "metadata": {},
     "output_type": "execute_result"
    }
   ],
   "source": [
    "model6.best_params_"
   ]
  },
  {
   "cell_type": "code",
   "execution_count": 76,
   "metadata": {},
   "outputs": [],
   "source": [
    "prediksi6 = model6.predict(X_test)"
   ]
  },
  {
   "cell_type": "code",
   "execution_count": 77,
   "metadata": {},
   "outputs": [
    {
     "name": "stdout",
     "output_type": "stream",
     "text": [
      "              precision    recall  f1-score   support\n",
      "\n",
      "           0       0.89      0.93      0.91      1919\n",
      "           1       0.66      0.53      0.59       473\n",
      "\n",
      "    accuracy                           0.85      2392\n",
      "   macro avg       0.77      0.73      0.75      2392\n",
      "weighted avg       0.84      0.85      0.85      2392\n",
      "\n"
     ]
    }
   ],
   "source": [
    "print(classification_report(y_test, prediksi6))"
   ]
  },
  {
   "cell_type": "code",
   "execution_count": 78,
   "metadata": {},
   "outputs": [
    {
     "data": {
      "image/png": "[encoded data removed]",
      "text/plain": [
       "<Figure size 504x360 with 2 Axes>"
      ]
     },
     "metadata": {
      "needs_background": "light"
     },
     "output_type": "display_data"
    }
   ],
   "source": [
    "cm6 = confusion_matrix(y_test,prediksi5,labels=[1,0])\n",
    "df_cm6 = pd.DataFrame(cm6,columns=['Pred 1', 'Pred 0'],index=['Act 1', 'Act 0'])\n",
    "\n",
    "plt.figure(figsize=(7,5))\n",
    "x = sns.heatmap(df_cm6, annot=True,annot_kws={'size':10},fmt='d',linewidths=0.2,cmap='magma')\n",
    "x.set_ylim(2,0)\n",
    "plt.show()"
   ]
  },
  {
   "cell_type": "markdown",
   "metadata": {},
   "source": [
    "Akurasi menggunakan XGBoost Classifier yang sudah dituning memiliki tingkat TP yang paling rendah yaitu 234 nasabah (sama seperti RFC), walaupun akurasinya adalah yang tertinggi dari seluruh model 85.2%. "
   ]
  },
  {
   "cell_type": "markdown",
   "metadata": {},
   "source": [
    "# ROC - AUC Curve"
   ]
  },
  {
   "cell_type": "code",
   "execution_count": 79,
   "metadata": {},
   "outputs": [],
   "source": [
    "proba1 = model1.predict_proba(X_test)\n",
    "proba2 = model2.predict_proba(X_test)\n",
    "proba3 = model3.predict_proba(X_test)\n",
    "proba4 = model4.predict_proba(X_test)\n",
    "proba5 = model5.predict_proba(X_test)\n",
    "proba6 = model6.predict_proba(X_test)"
   ]
  },
  {
   "cell_type": "code",
   "execution_count": 80,
   "metadata": {},
   "outputs": [],
   "source": [
    "pred1 = proba1[:,1] \n",
    "fpr1, tpr1, threshold1 = roc_curve(y_test, pred1)\n",
    "\n",
    "pred2 = proba2[:,1] \n",
    "fpr2, tpr2, threshold2 = roc_curve(y_test, pred2)\n",
    "\n",
    "pred3 = proba3[:,1] \n",
    "fpr3, tpr3, threshold3 = roc_curve(y_test, pred3)\n",
    "\n",
    "pred4 = proba4[:,1] \n",
    "fpr4, tpr4, threshold4 = roc_curve(y_test, pred4)\n",
    "\n",
    "pred5 = proba5[:,1] \n",
    "fpr5, tpr5, threshold5 = roc_curve(y_test, pred5)\n",
    "\n",
    "pred6 = proba6[:,1] \n",
    "fpr6, tpr6, threshold6 = roc_curve(y_test, pred6)"
   ]
  },
  {
   "cell_type": "code",
   "execution_count": 84,
   "metadata": {},
   "outputs": [],
   "source": [
    "sc1 = round(auc(fpr1,tpr1),2)\n",
    "sc2 = round(auc(fpr2,tpr2),2)\n",
    "sc3 = round(auc(fpr3,tpr3),2)\n",
    "sc4 = round(auc(fpr4,tpr4),2)\n",
    "sc5 = round(auc(fpr5,tpr5),2)\n",
    "sc6 = round(auc(fpr6,tpr6),2)"
   ]
  },
  {
   "cell_type": "code",
   "execution_count": 85,
   "metadata": {},
   "outputs": [
    {
     "data": {
      "image/png": "[encoded data removed]",
      "text/plain": [
       "<Figure size 720x576 with 1 Axes>"
      ]
     },
     "metadata": {
      "needs_background": "light"
     },
     "output_type": "display_data"
    }
   ],
   "source": [
    "plt.figure(figsize=(10,8))\n",
    "plt.title('Receiver Operator Characteristic')\n",
    "plt.plot(fpr1, tpr1, 'b', label=f'AUC LogRes={sc1} ')\n",
    "plt.plot(fpr2, tpr2, 'g', label=f'AUC RFC={sc2} ')\n",
    "plt.plot(fpr3, tpr3, 'r', label=f'AUC XGBC={sc3} ')\n",
    "plt.plot(fpr4, tpr4, 'k', label=f'AUC LogResTune={sc4} ')\n",
    "plt.plot(fpr5, tpr5, 'y', label=f'AUC RFCTune={sc5} ')\n",
    "plt.plot(fpr6, tpr6, 'purple', label=f'AUC XGBCTune={sc6} ')\n",
    "\n",
    "plt.plot([0,1],[0,1],'r-.')\n",
    "\n",
    "plt.ylim([0,1]) # dizoom grafiknya dari 0.1\n",
    "plt.xlim([0,1])\n",
    "plt.legend()\n",
    "plt.xlabel('False Positive Rates')\n",
    "plt.ylabel('True Positive Rates')\n",
    "plt.show()"
   ]
  },
  {
   "cell_type": "markdown",
   "metadata": {},
   "source": [
    "Dari perbandingan model diatas, dapat dilihat bahwa model yang paling baik adalah yang memiliki nilai AUC terbesar yaitu XGBC tanpa tuning.<br>\n",
    "Walaupun pada teori seharusnya tuning dapat mengimprove nilai model, karena terdapat beberapa parameter yang dilewat mengakibatkan nilai tuning yang lebih rendah dari yang tanpa tuning\n",
    "\n",
    "Oleh karena itu akan dipilih <b>XGBC tanpa tuning</b> sebagai pemodelan terbaik dengan TP 294 nasabah, akurasi 83.9% dan AUC sebesar 0.86"
   ]
  },
  {
   "cell_type": "markdown",
   "metadata": {},
   "source": [
    "# Export Model"
   ]
  },
  {
   "cell_type": "code",
   "execution_count": 86,
   "metadata": {},
   "outputs": [],
   "source": [
    "# with open ('bankModel', 'wb') as model:\n",
    "#     pickle.dump(model3, model)\n",
    "# di commend agar tidak create double"
   ]
  }
 ],
 "metadata": {
  "kernelspec": {
   "display_name": "Python 3",
   "language": "python",
   "name": "python3"
  },
  "language_info": {
   "codemirror_mode": {
    "name": "ipython",
    "version": 3
   },
   "file_extension": ".py",
   "mimetype": "text/x-python",
   "name": "python",
   "nbconvert_exporter": "python",
   "pygments_lexer": "ipython3",
   "version": "3.7.4"
  }
 },
 "nbformat": 4,
 "nbformat_minor": 4
}
